{
  "cells": [
    {
      "cell_type": "code",
      "execution_count": 5,
      "metadata": {
        "id": "Rm2vv8iQMaRO"
      },
      "outputs": [],
      "source": [
        "import pandas as pd"
      ]
    },
    {
      "cell_type": "code",
      "execution_count": 16,
      "metadata": {
        "id": "qfAlPQggNX4i"
      },
      "outputs": [],
      "source": [
        "emp = pd.read_csv(r'C:\\Users\\nikit\\SCMS_practical_class\\Python\\EDA\\employees.csv')\n"
      ]
    },
    {
      "cell_type": "code",
      "execution_count": 7,
      "metadata": {
        "id": "dTwJXljpNcmG"
      },
      "outputs": [
        {
          "data": {
            "text/html": [
              "<div>\n",
              "<style scoped>\n",
              "    .dataframe tbody tr th:only-of-type {\n",
              "        vertical-align: middle;\n",
              "    }\n",
              "\n",
              "    .dataframe tbody tr th {\n",
              "        vertical-align: top;\n",
              "    }\n",
              "\n",
              "    .dataframe thead th {\n",
              "        text-align: right;\n",
              "    }\n",
              "</style>\n",
              "<table border=\"1\" class=\"dataframe\">\n",
              "  <thead>\n",
              "    <tr style=\"text-align: right;\">\n",
              "      <th></th>\n",
              "      <th>emp_no</th>\n",
              "      <th>birth_date</th>\n",
              "      <th>first_name</th>\n",
              "      <th>last_name</th>\n",
              "      <th>gender</th>\n",
              "      <th>hire_date</th>\n",
              "    </tr>\n",
              "  </thead>\n",
              "  <tbody>\n",
              "    <tr>\n",
              "      <th>9</th>\n",
              "      <td>10010</td>\n",
              "      <td>1963-06-01</td>\n",
              "      <td>Duangkaew</td>\n",
              "      <td>Piveteau</td>\n",
              "      <td>F</td>\n",
              "      <td>1989-08-24</td>\n",
              "    </tr>\n",
              "  </tbody>\n",
              "</table>\n",
              "</div>"
            ],
            "text/plain": [
              "   emp_no  birth_date first_name last_name gender   hire_date\n",
              "9   10010  1963-06-01  Duangkaew  Piveteau      F  1989-08-24"
            ]
          },
          "execution_count": 7,
          "metadata": {},
          "output_type": "execute_result"
        }
      ],
      "source": [
        "emp[emp['emp_no']==10010]"
      ]
    },
    {
      "cell_type": "code",
      "execution_count": 8,
      "metadata": {
        "id": "GLVg2HfRNjBd"
      },
      "outputs": [
        {
          "data": {
            "text/html": [
              "<div>\n",
              "<style scoped>\n",
              "    .dataframe tbody tr th:only-of-type {\n",
              "        vertical-align: middle;\n",
              "    }\n",
              "\n",
              "    .dataframe tbody tr th {\n",
              "        vertical-align: top;\n",
              "    }\n",
              "\n",
              "    .dataframe thead th {\n",
              "        text-align: right;\n",
              "    }\n",
              "</style>\n",
              "<table border=\"1\" class=\"dataframe\">\n",
              "  <thead>\n",
              "    <tr style=\"text-align: right;\">\n",
              "      <th></th>\n",
              "      <th>emp_no</th>\n",
              "      <th>birth_date</th>\n",
              "      <th>first_name</th>\n",
              "      <th>last_name</th>\n",
              "      <th>gender</th>\n",
              "      <th>hire_date</th>\n",
              "    </tr>\n",
              "  </thead>\n",
              "  <tbody>\n",
              "    <tr>\n",
              "      <th>9</th>\n",
              "      <td>10010</td>\n",
              "      <td>1963-06-01</td>\n",
              "      <td>Duangkaew</td>\n",
              "      <td>Piveteau</td>\n",
              "      <td>F</td>\n",
              "      <td>1989-08-24</td>\n",
              "    </tr>\n",
              "    <tr>\n",
              "      <th>10</th>\n",
              "      <td>10011</td>\n",
              "      <td>1953-11-07</td>\n",
              "      <td>Mary</td>\n",
              "      <td>Sluis</td>\n",
              "      <td>F</td>\n",
              "      <td>1990-01-22</td>\n",
              "    </tr>\n",
              "  </tbody>\n",
              "</table>\n",
              "</div>"
            ],
            "text/plain": [
              "    emp_no  birth_date first_name last_name gender   hire_date\n",
              "9    10010  1963-06-01  Duangkaew  Piveteau      F  1989-08-24\n",
              "10   10011  1953-11-07       Mary     Sluis      F  1990-01-22"
            ]
          },
          "execution_count": 8,
          "metadata": {},
          "output_type": "execute_result"
        }
      ],
      "source": [
        "emp_no_list = [10010,10011]\n",
        "emp[emp['emp_no'].isin(emp_no_list)]"
      ]
    },
    {
      "cell_type": "code",
      "execution_count": 9,
      "metadata": {
        "id": "GLEIzXeGPo1r"
      },
      "outputs": [
        {
          "data": {
            "text/plain": [
              "(1000, 6)"
            ]
          },
          "execution_count": 9,
          "metadata": {},
          "output_type": "execute_result"
        }
      ],
      "source": [
        "emp.shape"
      ]
    },
    {
      "cell_type": "code",
      "execution_count": 10,
      "metadata": {
        "id": "7MHI3PdoNvUe"
      },
      "outputs": [
        {
          "data": {
            "text/html": [
              "<div>\n",
              "<style scoped>\n",
              "    .dataframe tbody tr th:only-of-type {\n",
              "        vertical-align: middle;\n",
              "    }\n",
              "\n",
              "    .dataframe tbody tr th {\n",
              "        vertical-align: top;\n",
              "    }\n",
              "\n",
              "    .dataframe thead th {\n",
              "        text-align: right;\n",
              "    }\n",
              "</style>\n",
              "<table border=\"1\" class=\"dataframe\">\n",
              "  <thead>\n",
              "    <tr style=\"text-align: right;\">\n",
              "      <th></th>\n",
              "      <th>emp_no</th>\n",
              "      <th>birth_date</th>\n",
              "      <th>first_name</th>\n",
              "      <th>last_name</th>\n",
              "      <th>gender</th>\n",
              "      <th>hire_date</th>\n",
              "    </tr>\n",
              "  </thead>\n",
              "  <tbody>\n",
              "    <tr>\n",
              "      <th>9</th>\n",
              "      <td>10010</td>\n",
              "      <td>1963-06-01</td>\n",
              "      <td>Duangkaew</td>\n",
              "      <td>Piveteau</td>\n",
              "      <td>F</td>\n",
              "      <td>1989-08-24</td>\n",
              "    </tr>\n",
              "    <tr>\n",
              "      <th>10</th>\n",
              "      <td>10011</td>\n",
              "      <td>1953-11-07</td>\n",
              "      <td>Mary</td>\n",
              "      <td>Sluis</td>\n",
              "      <td>F</td>\n",
              "      <td>1990-01-22</td>\n",
              "    </tr>\n",
              "  </tbody>\n",
              "</table>\n",
              "</div>"
            ],
            "text/plain": [
              "    emp_no  birth_date first_name last_name gender   hire_date\n",
              "9    10010  1963-06-01  Duangkaew  Piveteau      F  1989-08-24\n",
              "10   10011  1953-11-07       Mary     Sluis      F  1990-01-22"
            ]
          },
          "execution_count": 10,
          "metadata": {},
          "output_type": "execute_result"
        }
      ],
      "source": [
        "emp[emp['emp_no'].isin(emp_no_list)]"
      ]
    },
    {
      "cell_type": "code",
      "execution_count": 17,
      "metadata": {
        "id": "_rqmvkqdOIXc"
      },
      "outputs": [],
      "source": [
        "salaries = pd.read_csv(r'C:\\Users\\nikit\\SCMS_practical_class\\Python\\EDA\\Salaries.csv')\n"
      ]
    },
    {
      "cell_type": "code",
      "execution_count": null,
      "metadata": {
        "id": "9hS-jILAPmm9"
      },
      "outputs": [],
      "source": [
        "salaries.shape"
      ]
    },
    {
      "cell_type": "code",
      "execution_count": null,
      "metadata": {
        "id": "TQ_W7WtAPD3P"
      },
      "outputs": [],
      "source": [
        "\n",
        "salaries[salaries['emp_no'].isin(emp_no_list)]"
      ]
    },
    {
      "cell_type": "code",
      "execution_count": null,
      "metadata": {
        "id": "wW-cZoUxPHd4"
      },
      "outputs": [],
      "source": [
        "#join with emp with salaries\n",
        "salaries.merge(emp,on='emp_no')\n",
        "\n",
        "# it can possibale there some null value #target table is  , source  table admin table\n",
        "# employes table"
      ]
    },
    {
      "cell_type": "code",
      "execution_count": 13,
      "metadata": {
        "id": "E7ECYQ-_PePN"
      },
      "outputs": [],
      "source": [
        "titles = pd.read_csv(r'C:\\Users\\nikit\\SCMS_practical_class\\Python\\EDA\\titles.csv')\n"
      ]
    },
    {
      "cell_type": "code",
      "execution_count": 18,
      "metadata": {
        "id": "3iiE2BfeQotn"
      },
      "outputs": [
        {
          "data": {
            "text/html": [
              "<div>\n",
              "<style scoped>\n",
              "    .dataframe tbody tr th:only-of-type {\n",
              "        vertical-align: middle;\n",
              "    }\n",
              "\n",
              "    .dataframe tbody tr th {\n",
              "        vertical-align: top;\n",
              "    }\n",
              "\n",
              "    .dataframe thead th {\n",
              "        text-align: right;\n",
              "    }\n",
              "</style>\n",
              "<table border=\"1\" class=\"dataframe\">\n",
              "  <thead>\n",
              "    <tr style=\"text-align: right;\">\n",
              "      <th></th>\n",
              "      <th>emp_no</th>\n",
              "      <th>title</th>\n",
              "      <th>from_date</th>\n",
              "      <th>to_date</th>\n",
              "    </tr>\n",
              "  </thead>\n",
              "  <tbody>\n",
              "    <tr>\n",
              "      <th>0</th>\n",
              "      <td>10001</td>\n",
              "      <td>Senior Engineer</td>\n",
              "      <td>1986-06-26</td>\n",
              "      <td>9999-01-01</td>\n",
              "    </tr>\n",
              "    <tr>\n",
              "      <th>1</th>\n",
              "      <td>10002</td>\n",
              "      <td>Staff</td>\n",
              "      <td>1996-08-03</td>\n",
              "      <td>9999-01-01</td>\n",
              "    </tr>\n",
              "    <tr>\n",
              "      <th>2</th>\n",
              "      <td>10003</td>\n",
              "      <td>Senior Engineer</td>\n",
              "      <td>1995-12-03</td>\n",
              "      <td>9999-01-01</td>\n",
              "    </tr>\n",
              "    <tr>\n",
              "      <th>3</th>\n",
              "      <td>10004</td>\n",
              "      <td>Engineer</td>\n",
              "      <td>1986-12-01</td>\n",
              "      <td>1995-12-01</td>\n",
              "    </tr>\n",
              "    <tr>\n",
              "      <th>4</th>\n",
              "      <td>10004</td>\n",
              "      <td>Senior Engineer</td>\n",
              "      <td>1995-12-01</td>\n",
              "      <td>9999-01-01</td>\n",
              "    </tr>\n",
              "    <tr>\n",
              "      <th>...</th>\n",
              "      <td>...</td>\n",
              "      <td>...</td>\n",
              "      <td>...</td>\n",
              "      <td>...</td>\n",
              "    </tr>\n",
              "    <tr>\n",
              "      <th>995</th>\n",
              "      <td>10669</td>\n",
              "      <td>Senior Staff</td>\n",
              "      <td>2001-11-17</td>\n",
              "      <td>9999-01-01</td>\n",
              "    </tr>\n",
              "    <tr>\n",
              "      <th>996</th>\n",
              "      <td>10669</td>\n",
              "      <td>Staff</td>\n",
              "      <td>1996-11-17</td>\n",
              "      <td>2001-11-17</td>\n",
              "    </tr>\n",
              "    <tr>\n",
              "      <th>997</th>\n",
              "      <td>10670</td>\n",
              "      <td>Senior Staff</td>\n",
              "      <td>1993-03-23</td>\n",
              "      <td>9999-01-01</td>\n",
              "    </tr>\n",
              "    <tr>\n",
              "      <th>998</th>\n",
              "      <td>10670</td>\n",
              "      <td>Staff</td>\n",
              "      <td>1988-03-23</td>\n",
              "      <td>1993-03-23</td>\n",
              "    </tr>\n",
              "    <tr>\n",
              "      <th>999</th>\n",
              "      <td>10671</td>\n",
              "      <td>Senior Staff</td>\n",
              "      <td>2001-09-13</td>\n",
              "      <td>9999-01-01</td>\n",
              "    </tr>\n",
              "  </tbody>\n",
              "</table>\n",
              "<p>1000 rows × 4 columns</p>\n",
              "</div>"
            ],
            "text/plain": [
              "     emp_no            title   from_date     to_date\n",
              "0     10001  Senior Engineer  1986-06-26  9999-01-01\n",
              "1     10002            Staff  1996-08-03  9999-01-01\n",
              "2     10003  Senior Engineer  1995-12-03  9999-01-01\n",
              "3     10004         Engineer  1986-12-01  1995-12-01\n",
              "4     10004  Senior Engineer  1995-12-01  9999-01-01\n",
              "..      ...              ...         ...         ...\n",
              "995   10669     Senior Staff  2001-11-17  9999-01-01\n",
              "996   10669            Staff  1996-11-17  2001-11-17\n",
              "997   10670     Senior Staff  1993-03-23  9999-01-01\n",
              "998   10670            Staff  1988-03-23  1993-03-23\n",
              "999   10671     Senior Staff  2001-09-13  9999-01-01\n",
              "\n",
              "[1000 rows x 4 columns]"
            ]
          },
          "execution_count": 18,
          "metadata": {},
          "output_type": "execute_result"
        }
      ],
      "source": [
        "titles"
      ]
    },
    {
      "cell_type": "code",
      "execution_count": 19,
      "metadata": {
        "id": "i9B2jc4fQpl0"
      },
      "outputs": [
        {
          "data": {
            "text/html": [
              "<div>\n",
              "<style scoped>\n",
              "    .dataframe tbody tr th:only-of-type {\n",
              "        vertical-align: middle;\n",
              "    }\n",
              "\n",
              "    .dataframe tbody tr th {\n",
              "        vertical-align: top;\n",
              "    }\n",
              "\n",
              "    .dataframe thead th {\n",
              "        text-align: right;\n",
              "    }\n",
              "</style>\n",
              "<table border=\"1\" class=\"dataframe\">\n",
              "  <thead>\n",
              "    <tr style=\"text-align: right;\">\n",
              "      <th></th>\n",
              "      <th>emp_no</th>\n",
              "      <th>title</th>\n",
              "      <th>from_date</th>\n",
              "      <th>to_date</th>\n",
              "    </tr>\n",
              "  </thead>\n",
              "  <tbody>\n",
              "    <tr>\n",
              "      <th>14</th>\n",
              "      <td>10010</td>\n",
              "      <td>Engineer</td>\n",
              "      <td>1996-11-24</td>\n",
              "      <td>9999-01-01</td>\n",
              "    </tr>\n",
              "    <tr>\n",
              "      <th>15</th>\n",
              "      <td>10011</td>\n",
              "      <td>Staff</td>\n",
              "      <td>1990-01-22</td>\n",
              "      <td>1996-11-09</td>\n",
              "    </tr>\n",
              "  </tbody>\n",
              "</table>\n",
              "</div>"
            ],
            "text/plain": [
              "    emp_no     title   from_date     to_date\n",
              "14   10010  Engineer  1996-11-24  9999-01-01\n",
              "15   10011     Staff  1990-01-22  1996-11-09"
            ]
          },
          "execution_count": 19,
          "metadata": {},
          "output_type": "execute_result"
        }
      ],
      "source": [
        "titles[titles['emp_no'].isin(emp_no_list)]"
      ]
    },
    {
      "cell_type": "code",
      "execution_count": null,
      "metadata": {
        "id": "WHXeEflbQwlG"
      },
      "outputs": [],
      "source": [
        "# first name , salary (max ) latest salary , hire date , last working if employees present 9999 current emploe , year ex , titels\n",
        "#left join it better split query\n"
      ]
    }
  ],
  "metadata": {
    "colab": {
      "private_outputs": true,
      "provenance": []
    },
    "kernelspec": {
      "display_name": "Python 3",
      "name": "python3"
    },
    "language_info": {
      "codemirror_mode": {
        "name": "ipython",
        "version": 3
      },
      "file_extension": ".py",
      "mimetype": "text/x-python",
      "name": "python",
      "nbconvert_exporter": "python",
      "pygments_lexer": "ipython3",
      "version": "3.11.3"
    }
  },
  "nbformat": 4,
  "nbformat_minor": 0
}
